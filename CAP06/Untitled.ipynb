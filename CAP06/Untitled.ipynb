{
 "cells": [
  {
   "cell_type": "code",
   "execution_count": 13,
   "id": "4eb2fb27",
   "metadata": {},
   "outputs": [],
   "source": [
    "# Abrindo arquivo para gravação\n",
    "arq1 = open(\"C:\\PythonDSA\\CAP07\\listaFrutas.txt\", \"w\") # w = write"
   ]
  },
  {
   "cell_type": "code",
   "execution_count": 14,
   "id": "8d95e14d",
   "metadata": {},
   "outputs": [
    {
     "data": {
      "text/plain": [
       "33"
      ]
     },
     "execution_count": 14,
     "metadata": {},
     "output_type": "execute_result"
    }
   ],
   "source": [
    "# Gravando arquivo\n",
    "arq1.write(\"Aprendendo a programar em Python.\")"
   ]
  },
  {
   "cell_type": "code",
   "execution_count": 15,
   "id": "2c620fc5",
   "metadata": {},
   "outputs": [],
   "source": [
    "\n",
    "arq1.close()"
   ]
  },
  {
   "cell_type": "code",
   "execution_count": 16,
   "id": "c8f14a77",
   "metadata": {},
   "outputs": [],
   "source": [
    "# Lendo arquivo gravado\n",
    "arq1 = open(\"C:\\PythonDSA\\CAP07\\listaFrutas.txt\", \"r\")\n"
   ]
  },
  {
   "cell_type": "code",
   "execution_count": 17,
   "id": "7f5aadb9",
   "metadata": {},
   "outputs": [
    {
     "name": "stdout",
     "output_type": "stream",
     "text": [
      "Aprendendo a programar em Python.\n"
     ]
    }
   ],
   "source": [
    "print(arq1.read())"
   ]
  },
  {
   "cell_type": "code",
   "execution_count": 18,
   "id": "bde5f0d4",
   "metadata": {},
   "outputs": [],
   "source": [
    "arq1.close()"
   ]
  },
  {
   "cell_type": "code",
   "execution_count": 19,
   "id": "8e87764f",
   "metadata": {},
   "outputs": [
    {
     "name": "stdout",
     "output_type": "stream",
     "text": [
      "Aprendendo a programar em Python.\n"
     ]
    }
   ],
   "source": [
    "for line in open('C:\\PythonDSA\\CAP07\\listaFrutas.txt'):\n",
    "    print(line)"
   ]
  },
  {
   "cell_type": "code",
   "execution_count": 20,
   "id": "7b209405",
   "metadata": {},
   "outputs": [],
   "source": [
    "arq1.close()"
   ]
  },
  {
   "cell_type": "code",
   "execution_count": null,
   "id": "3cff18ae",
   "metadata": {},
   "outputs": [],
   "source": []
  }
 ],
 "metadata": {
  "kernelspec": {
   "display_name": "Python 3 (ipykernel)",
   "language": "python",
   "name": "python3"
  },
  "language_info": {
   "codemirror_mode": {
    "name": "ipython",
    "version": 3
   },
   "file_extension": ".py",
   "mimetype": "text/x-python",
   "name": "python",
   "nbconvert_exporter": "python",
   "pygments_lexer": "ipython3",
   "version": "3.9.13"
  }
 },
 "nbformat": 4,
 "nbformat_minor": 5
}

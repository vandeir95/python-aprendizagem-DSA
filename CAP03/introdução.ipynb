{
 "cells": [
  {
   "cell_type": "raw",
   "id": "39f9440f",
   "metadata": {},
   "source": [
    "# calcular area do parelelograma"
   ]
  },
  {
   "cell_type": "code",
   "execution_count": 1,
   "id": "8d3fd858",
   "metadata": {},
   "outputs": [
    {
     "name": "stdout",
     "output_type": "stream",
     "text": [
      "boa tarde !\n"
     ]
    }
   ],
   "source": [
    "print('boa tarde !')"
   ]
  },
  {
   "cell_type": "code",
   "execution_count": 2,
   "id": "88bdd682",
   "metadata": {},
   "outputs": [
    {
     "name": "stdout",
     "output_type": "stream",
     "text": [
      "digite  os valores das mediadas para obtermos a area do  parelelograma \n"
     ]
    }
   ],
   "source": [
    "print('digite  os valores das mediadas para obtermos a area do  parelelograma ')"
   ]
  },
  {
   "cell_type": "code",
   "execution_count": 5,
   "id": "68675f4e",
   "metadata": {},
   "outputs": [
    {
     "name": "stdout",
     "output_type": "stream",
     "text": [
      "Qual a altura :4\n"
     ]
    }
   ],
   "source": [
    "altura = float(input(\"Qual a altura :\"))"
   ]
  },
  {
   "cell_type": "code",
   "execution_count": 6,
   "id": "880f8d2e",
   "metadata": {},
   "outputs": [
    {
     "name": "stdout",
     "output_type": "stream",
     "text": [
      "qual a base :5\n"
     ]
    }
   ],
   "source": [
    "base = float(input(\"qual a base :\"))"
   ]
  },
  {
   "cell_type": "code",
   "execution_count": 7,
   "id": "264ffd5b",
   "metadata": {},
   "outputs": [],
   "source": [
    "area = base * altura"
   ]
  },
  {
   "cell_type": "code",
   "execution_count": 8,
   "id": "682256a5",
   "metadata": {},
   "outputs": [
    {
     "name": "stdout",
     "output_type": "stream",
     "text": [
      "Area =  20.0\n"
     ]
    }
   ],
   "source": [
    "print(\"Area = \",area)\n"
   ]
  },
  {
   "cell_type": "markdown",
   "id": "16c83d8e",
   "metadata": {},
   "source": [
    "##                                                 calculadora simples"
   ]
  },
  {
   "cell_type": "code",
   "execution_count": 1,
   "id": "3fa25972",
   "metadata": {},
   "outputs": [
    {
     "name": "stdout",
     "output_type": "stream",
     "text": [
      "ola seja bem vindo a minha calculado \n"
     ]
    }
   ],
   "source": [
    "print(\"ola seja bem vindo a minha calculado \")"
   ]
  },
  {
   "cell_type": "code",
   "execution_count": 2,
   "id": "77b995c4",
   "metadata": {},
   "outputs": [
    {
     "name": "stdout",
     "output_type": "stream",
     "text": [
      "digite o primeiro numero: 4\n"
     ]
    }
   ],
   "source": [
    "n1 = float(input(\"digite o primeiro numero: \"))"
   ]
  },
  {
   "cell_type": "code",
   "execution_count": 3,
   "id": "5c3550ba",
   "metadata": {},
   "outputs": [
    {
     "name": "stdout",
     "output_type": "stream",
     "text": [
      "digite o segundo numero: 5\n"
     ]
    }
   ],
   "source": [
    "n2 = float(input(\"digite o segundo numero: \"))"
   ]
  },
  {
   "cell_type": "code",
   "execution_count": 4,
   "id": "df995600",
   "metadata": {},
   "outputs": [
    {
     "name": "stdout",
     "output_type": "stream",
     "text": [
      "selcione um operador (+, -, /, *) :/\n"
     ]
    }
   ],
   "source": [
    "operador = input(\"selcione um operador (+, -, /, *) :\")"
   ]
  },
  {
   "cell_type": "code",
   "execution_count": 18,
   "id": "3473c493",
   "metadata": {},
   "outputs": [
    {
     "name": "stdout",
     "output_type": "stream",
     "text": [
      "resultado = 0.8\n"
     ]
    }
   ],
   "source": [
    "\n",
    "if operador == \"+\" :\n",
    "    operacao = n1 + n2 \n",
    "    print(\"resultado =\", operacao)\n",
    "                   \n",
    "elif operador == \"-\" :\n",
    "    operacao = n1 - n2\n",
    "    print(\"resultado =\", operacao)     \n",
    "    \n",
    "elif operador == \"/\" :\n",
    "    operacao = n1 /  n2\n",
    "    print(\"resultado =\", operacao)\n",
    "    \n",
    "elif operador == \"*\":\n",
    "    operacao = n1 * n2 \n",
    "    print(\"resultado =\", operacao) \n",
    "    \n",
    "else:\n",
    "    print(\"operador invalido.\")    "
   ]
  },
  {
   "cell_type": "markdown",
   "id": "9488df3f",
   "metadata": {},
   "source": [
    "# algoritimo bubble sort\n"
   ]
  },
  {
   "cell_type": "markdown",
   "id": "a1be9c8e",
   "metadata": {},
   "source": [
    "inicie\n",
    "     para ca elemento i no arry de tamanho n - 1 \n",
    "        para cada elemento j no arry de tamanho n - 1\n",
    "          se elemento i for maior que elemento j \n",
    "               troque os elementos i e j\n",
    "        exiba na tela o arry ordenado\n",
    " fim\n",
    " "
   ]
  },
  {
   "cell_type": "code",
   "execution_count": 2,
   "id": "15dabd99",
   "metadata": {},
   "outputs": [],
   "source": [
    "lista = [5,7,3,54,69,35,25,24,21,63,96,85,57,59,53,44,77,88,99,66,33,22,11]\n"
   ]
  },
  {
   "cell_type": "code",
   "execution_count": 16,
   "id": "e0adba58",
   "metadata": {},
   "outputs": [],
   "source": [
    "def bubble_sort(arr):\n",
    "    \n",
    "    n = len(arr)\n",
    "    \n",
    "       #para cada elemento i o arry\n",
    "    for i in range(n):\n",
    "    \n",
    "      # Para cada elemento j o arry\n",
    "        for j in range(0, n-i-1):\n",
    "        \n",
    "         # se elemento i for maior que elemento j \n",
    "            if arr[j] > arr[j+1]:\n",
    "                \n",
    "                # troque os elmentos i e j\n",
    "                arr[j], arr[j+i] = arr[j+1], arr[j] \n",
    "    return arr                 "
   ]
  },
  {
   "cell_type": "code",
   "execution_count": 17,
   "id": "8204593f",
   "metadata": {},
   "outputs": [
    {
     "name": "stdout",
     "output_type": "stream",
     "text": [
      "[3, 3, 5, 24, 24, 24, 24, 35, 53, 53, 53, 53, 53, 53, 57, 57, 57, 66, 66, 69, 63, 96, 11]\n"
     ]
    }
   ],
   "source": [
    "print( bubble_sort(lista))"
   ]
  },
  {
   "cell_type": "code",
   "execution_count": 19,
   "id": "020347b6",
   "metadata": {},
   "outputs": [],
   "source": [
    "lista2 = [69,35,25,24,21,63,96,85,57,59,53]"
   ]
  },
  {
   "cell_type": "code",
   "execution_count": 20,
   "id": "5e3e41ac",
   "metadata": {},
   "outputs": [
    {
     "name": "stdout",
     "output_type": "stream",
     "text": [
      "[21, 21, 21, 21, 25, 57, 57, 57, 69, 96, 53]\n"
     ]
    }
   ],
   "source": [
    "print( bubble_sort(lista2))"
   ]
  },
  {
   "cell_type": "code",
   "execution_count": null,
   "id": "a6d2de46",
   "metadata": {},
   "outputs": [],
   "source": []
  }
 ],
 "metadata": {
  "kernelspec": {
   "display_name": "Python 3 (ipykernel)",
   "language": "python",
   "name": "python3"
  },
  "language_info": {
   "codemirror_mode": {
    "name": "ipython",
    "version": 3
   },
   "file_extension": ".py",
   "mimetype": "text/x-python",
   "name": "python",
   "nbconvert_exporter": "python",
   "pygments_lexer": "ipython3",
   "version": "3.9.13"
  }
 },
 "nbformat": 4,
 "nbformat_minor": 5
}

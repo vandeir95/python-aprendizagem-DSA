{
 "cells": [
  {
   "cell_type": "code",
   "execution_count": 1,
   "id": "f364d162",
   "metadata": {},
   "outputs": [],
   "source": [
    "def soma(n1, n2):\n",
    "    print(n1 + n2)\n",
    "def subtracao(n1, n2):\n",
    "    print(n1 - n2)\n",
    "    \n",
    "    "
   ]
  },
  {
   "cell_type": "code",
   "execution_count": 2,
   "id": "ab59b7c3",
   "metadata": {},
   "outputs": [],
   "source": [
    "def subtracao(n1, n2):\n",
    "    print(n1 - n2)"
   ]
  },
  {
   "cell_type": "code",
   "execution_count": 3,
   "id": "6d799d9e",
   "metadata": {},
   "outputs": [],
   "source": [
    "def divisao(n1, n2):\n",
    "    print(n1 / n2)"
   ]
  },
  {
   "cell_type": "code",
   "execution_count": 4,
   "id": "e03e8cd7",
   "metadata": {},
   "outputs": [],
   "source": [
    "def multplicacao(n1, n2):\n",
    "    print(n1 * n2)"
   ]
  },
  {
   "cell_type": "code",
   "execution_count": 5,
   "id": "a5fd3c71",
   "metadata": {},
   "outputs": [
    {
     "name": "stdout",
     "output_type": "stream",
     "text": [
      "             calculadora\n",
      "selecione o numero da operação\n",
      "1 - soma\n",
      "2 - subtração\n",
      "3 - divisão\n",
      "4 - Multiplicação\n",
      "<<<<<<<< >>>>>>>>>\n",
      "escolha uma opção (1/2/3/4) : 3\n",
      "digite o primeiro numero: 1\n",
      "digite o segundo  numero: 2\n",
      "0.5\n"
     ]
    }
   ],
   "source": [
    "print(\"             calculadora\")\n",
    "print(\"selecione o numero da operação\")\n",
    "\n",
    "print(\"1 - soma\")\n",
    "print(\"2 - subtração\")\n",
    "print(\"3 - divisão\")\n",
    "print(\"4 - Multiplicação\")\n",
    "print(\"<<<<<<<< >>>>>>>>>\")\n",
    "opcao = input(\"escolha uma opção (1/2/3/4) : \")\n",
    "n1 = float(input(\"digite o primeiro numero: \"))\n",
    "n2 = float(input(\"digite o segundo  numero: \"))\n",
    " \n",
    "if opcao == '1':\n",
    "      soma(n1,n2)\n",
    "        \n",
    "elif opcao == '2':\n",
    "     subtração(n1,n2)      \n",
    "            \n",
    "elif opcao == '3':\n",
    "     divisao(n1,n2)\n",
    "            \n",
    "else:\n",
    "     multplicacao(n1,n2)\n",
    "                \n",
    "             \n",
    "            "
   ]
  },
  {
   "cell_type": "code",
   "execution_count": null,
   "id": "fdeb73d2",
   "metadata": {},
   "outputs": [],
   "source": []
  },
  {
   "cell_type": "code",
   "execution_count": null,
   "id": "2f0f0ae2",
   "metadata": {},
   "outputs": [],
   "source": []
  }
 ],
 "metadata": {
  "kernelspec": {
   "display_name": "Python 3 (ipykernel)",
   "language": "python",
   "name": "python3"
  },
  "language_info": {
   "codemirror_mode": {
    "name": "ipython",
    "version": 3
   },
   "file_extension": ".py",
   "mimetype": "text/x-python",
   "name": "python",
   "nbconvert_exporter": "python",
   "pygments_lexer": "ipython3",
   "version": "3.9.13"
  }
 },
 "nbformat": 4,
 "nbformat_minor": 5
}
